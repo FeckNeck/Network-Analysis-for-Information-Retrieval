{
 "cells": [
  {
   "cell_type": "markdown",
   "metadata": {},
   "source": [
    "# Network-Analysis-for-Information-Retrieval"
   ]
  },
  {
   "cell_type": "markdown",
   "metadata": {},
   "source": [
    "## Data Loading "
   ]
  },
  {
   "cell_type": "code",
   "execution_count": 27,
   "metadata": {},
   "outputs": [],
   "source": [
    "import pandas as pd\n",
    "\n",
    "FILE_PREFIX = \"dblp-ref-\"\n",
    "NB_FILES = 4\n",
    "\n",
    "corpus = []\n",
    "\n",
    "for i in range(0, NB_FILES):\n",
    "    file = './data/' + FILE_PREFIX + str(i) + \".json\"\n",
    "    data = pd.read_json(file, lines=True)\n",
    "    corpus.append(data)\n",
    "\n",
    "corpus = pd.concat(corpus, ignore_index=True)"
   ]
  },
  {
   "cell_type": "code",
   "execution_count": 28,
   "metadata": {},
   "outputs": [
    {
     "data": {
      "text/plain": [
       "(3079007, 8)"
      ]
     },
     "execution_count": 28,
     "metadata": {},
     "output_type": "execute_result"
    }
   ],
   "source": [
    "corpus.shape"
   ]
  },
  {
   "cell_type": "code",
   "execution_count": 33,
   "metadata": {},
   "outputs": [
    {
     "name": "stdout",
     "output_type": "stream",
     "text": [
      "----- Abstracts -----\n",
      "Mean length of Abstracts 948.903579786324\n",
      "Max length of Abstracts 11096.0\n",
      "Min length of Abstracts 6.0\n",
      "\n",
      "\n",
      "----- Authors -----\n",
      "Number of authors 9476169\n",
      "Number of unique authors 1766548\n",
      "Mean number of authors per paper 5.3642303318281375\n",
      "Number of paper per author : authors\n",
      "Wei Wang            2518\n",
      "Wei Zhang           1651\n",
      "Lei Zhang           1611\n",
      "Yang Liu            1572\n",
      "Wei Li              1491\n",
      "                    ... \n",
      "Youichi Kukimoto       1\n",
      "R. M. Ma               1\n",
      "Can A. Dogan           1\n",
      "Todd F. McClain        1\n",
      "Eirik Abildsnes        1\n",
      "Name: count, Length: 1766547, dtype: int64\n",
      "\n",
      "\n",
      "----- Temporal distribution -----\n"
     ]
    },
    {
     "data": {
      "text/plain": [
       "<Axes: >"
      ]
     },
     "execution_count": 33,
     "metadata": {},
     "output_type": "execute_result"
    },
    {
     "data": {
      "image/png": "[encoded data removed]",
      "text/plain": [
       "<Figure size 640x480 with 1 Axes>"
      ]
     },
     "metadata": {},
     "output_type": "display_data"
    }
   ],
   "source": [
    "print(\"----- Abstracts -----\")\n",
    "print(\"Mean length of Abstracts\", corpus['abstract'].str.len().mean())\n",
    "print(\"Max length of Abstracts\", corpus['abstract'].str.len().max())\n",
    "print(\"Min length of Abstracts\", corpus['abstract'].str.len().min())\n",
    "\n",
    "print(\"\\n\")\n",
    "print(\"----- Authors -----\")\n",
    "df_exploded = corpus.explode('authors')\n",
    "print(\"Number of authors\", len(df_exploded['authors']))\n",
    "unique_authors = df_exploded['authors'].unique().tolist()\n",
    "print(\"Number of unique authors\", len(unique_authors))\n",
    "print(\"Mean number of authors per paper\", df_exploded['authors'].value_counts().mean())\n",
    "print(\"Number of paper per author :\", df_exploded['authors'].value_counts())\n",
    "\n",
    "## temporal distribution\n",
    "print(\"\\n\")\n",
    "print(\"----- Temporal distribution -----\")\n",
    "corpus['year'].hist(bins=30)"
   ]
  }
 ],
 "metadata": {
  "kernelspec": {
   "display_name": "venv",
   "language": "python",
   "name": "python3"
  },
  "language_info": {
   "codemirror_mode": {
    "name": "ipython",
    "version": 3
   },
   "file_extension": ".py",
   "mimetype": "text/x-python",
   "name": "python",
   "nbconvert_exporter": "python",
   "pygments_lexer": "ipython3",
   "version": "3.12.0"
  }
 },
 "nbformat": 4,
 "nbformat_minor": 2
}
